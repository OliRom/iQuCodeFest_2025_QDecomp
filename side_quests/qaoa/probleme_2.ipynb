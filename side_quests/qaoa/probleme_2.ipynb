{
 "cells": [
  {
   "cell_type": "markdown",
   "metadata": {},
   "source": [
    "# Problem 2 : Partitionning the Bus Fleet\n",
    "\n",
    "In part 1, you were able to solve the simple MaxCut problem. Let's spice things up a bit by taking more information into account!\n",
    "\n",
    "## Problem Statement\n",
    "> The STS wishes to add 5 buses each serving a different line, to accomodate the growing need felt by users for the morning departures of 08:00 am and 08:30. Given that some bus lines intersect, we want to organize the buses into 2 groups. Ideally, we want the buses serving the same stops to depart at different times as much as possible.\n",
    "\n",
    "### Supplementary Information\n",
    "In this problem, all bus line intertsections are not equal.\n",
    "An **intersecting weight** is specified, corresponding to the number of common edges between two bus lines. This translates the fact that some bus lines have more stops in common than other and thus, partionning them into different groups takes priority.\n",
    "\n",
    "The following table summarizes the intersection weights for each bus line (i.e. the number of edges in common between each pair of bus lines):\n",
    "\n",
    "<p align=\"center\">\n",
    "<img src=\"figures/table_prob2_ENG.png\" alt=\"prob2\" width=\"500\"/>\n",
    "</p>\n",
    "\n",
    "**A larger weight** means that two bus lines shares a higher number of edges.\n",
    "\n",
    "## Goal\n",
    "Your goal is to **minimize the sum of intersection weights** in each departure group. In other words, you want to divide the departure lines sharing many stops.\n",
    "\n",
    "### How : You need to\n",
    "- encode the problem into a `SparsePauliOp` Hamiltonian\n",
    "- optimize the parameters of your QAOA circuit\n",
    "- select a good set of hyperparameters (number of layers, optimizer, ...)\n",
    "\n",
    "#### Evaluation : You must\n",
    "- Show a mentor that you were able to run your code correctly (showing cell outputs is sufficient)\n",
    "- Show the optimal solutions you identified for this problem"
   ]
  },
  {
   "cell_type": "code",
   "execution_count": null,
   "metadata": {},
   "outputs": [],
   "source": [
    "# Instanciate your Hamiltonian"
   ]
  },
  {
   "cell_type": "code",
   "execution_count": null,
   "metadata": {},
   "outputs": [],
   "source": [
    "# Instanciate your QAOA circuit"
   ]
  },
  {
   "cell_type": "code",
   "execution_count": null,
   "metadata": {},
   "outputs": [],
   "source": [
    "# Hyperparameter optimisation"
   ]
  },
  {
   "cell_type": "code",
   "execution_count": null,
   "metadata": {},
   "outputs": [],
   "source": [
    "# Result analysis and identified solutions"
   ]
  }
 ],
 "metadata": {
  "kernelspec": {
   "display_name": "test1_codefest2025_venv",
   "language": "python",
   "name": "python3"
  },
  "language_info": {
   "codemirror_mode": {
    "name": "ipython",
    "version": 3
   },
   "file_extension": ".py",
   "mimetype": "text/x-python",
   "name": "python",
   "nbconvert_exporter": "python",
   "pygments_lexer": "ipython3",
   "version": "3.12.2"
  }
 },
 "nbformat": 4,
 "nbformat_minor": 2
}
