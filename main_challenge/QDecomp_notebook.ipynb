{
 "cells": [
  {
   "cell_type": "markdown",
   "id": "4f4b58d8",
   "metadata": {},
   "source": [
    "# QDutch\n",
    "\n",
    "A reimagined card game by Francis Blais, Vincent Girouard, Olivier Romain and Marius Trudeau for iQuCodeFest 2025."
   ]
  },
  {
   "cell_type": "markdown",
   "id": "61e61535",
   "metadata": {},
   "source": [
    "## Original Game Mechanics"
   ]
  },
  {
   "cell_type": "markdown",
   "id": "af498a7a",
   "metadata": {},
   "source": [
    "QDutch is a reinterpretation of the Dutch card game. The rules of this game are simple.\n",
    "\n",
    "- Each player (2 - 4) starts with four cards and can only look at two of them. The players then hide all of their cards and the game can start. \n",
    "\n",
    "- The goal of the game is to have the smallest sum of cards. \n",
    "One by one, each player picks up one card from a deck and look at it. If the player wants, he can replace any of his cards by that new card in order to lower his total sum. Otherwise, he can get rid of this card. \n",
    "\n",
    "- Some cards, when picked up from the deck, have special effects, e.g. look at a card, change a card with another player, etc. \n",
    "\n",
    "- At the beginning of his turn, if a player thinks he has the smallest hand, he calls *\"Dutch\"*. The game end after the turn and every player reveals his four cards. The player with the smallest sum wins the game."
   ]
  },
  {
   "cell_type": "markdown",
   "id": "4a8f49a5",
   "metadata": {},
   "source": [
    "## Quantumized Game Mechanics"
   ]
  },
  {
   "cell_type": "markdown",
   "id": "86ff311c",
   "metadata": {},
   "source": [
    "**QDutch** changes some of those game mechanics to include quantum effects in the game. \n",
    "\n",
    "### 1. Player Cards\n",
    "\n",
    "Each card of a player consists of a 3-qubit state. The *quantity* associated to this card is the measured value of the state in the computational basis (in binary). Because of that, each card can go from 0 to 7 points. At the beginning of the game, each player is provided with four states of the 3-qubit computational basis. Only two of them are known by the player. These states can be known exactly since they are eigenstates in the computational basis.\n",
    "\n",
    "#### Code implementation\n",
    "\n",
    "Each player card is implemented in a `PlayerSlot` class. These classes are initialized with a `Qiskit` quantum circuit, which represent the quantum state associated with the card."
   ]
  },
  {
   "cell_type": "code",
   "execution_count": 1,
   "id": "0a52a3f9",
   "metadata": {},
   "outputs": [
    {
     "name": "stdout",
     "output_type": "stream",
     "text": [
      "state_index = 3\n",
      "\n",
      "     ┌──────────────────────────────┐\n",
      "q_0: ┤0                             ├\n",
      "     │                              │\n",
      "q_1: ┤1 Initialize(0,0,0,1,0,0,0,0) ├\n",
      "     │                              │\n",
      "q_2: ┤2                             ├\n",
      "     └──────────────────────────────┘\n",
      "c: 3/════════════════════════════════\n",
      "                                     \n"
     ]
    }
   ],
   "source": [
    "from player_slot_class import PlayerSlot\n",
    "from card_generator import generate_state\n",
    "\n",
    "# Generate a state between 0 and 7 (random 3 qubit state in the computational basis)\n",
    "state_index = generate_state()\n",
    "print(f\"{state_index = }\\n\")\n",
    "\n",
    "# Create the Player Slot object with the generated state\n",
    "state = PlayerSlot()\n",
    "state.set_state(state_index)\n",
    "\n",
    "# PlayerSlot contains a quantum circuit that prepares the state\n",
    "print(state.qc)\n"
   ]
  },
  {
   "cell_type": "markdown",
   "id": "c629d5ca",
   "metadata": {},
   "source": [
    "### 2. Deck of cards\n",
    "\n",
    "The deck of card in the middle of the table is also quantum. This deck contains three types of cards: **States**, **Action** and **Measurement**. Those cards are generated classically with predefined probabilities. Those cards are generated with the `card_generator` module.\n",
    "\n",
    "a) States\n",
    "\n",
    "State cards are 3 qubit quantum states expressed in the computationnal basis. When a player picks up a state card, he can change it with any of his cards. This create a new cards with zero uncertainty.\n",
    "\n",
    "#### Code Implementation\n",
    "\n",
    "The game is handled into a `QDutch` class. In this example, we show how a player can change one of his cards with a new card drawn from the deck."
   ]
  },
  {
   "cell_type": "code",
   "execution_count": 13,
   "id": "6d8aa0a0",
   "metadata": {},
   "outputs": [
    {
     "name": "stdout",
     "output_type": "stream",
     "text": [
      "Initial Hand:\n",
      "2\n",
      "\n",
      "State Card:\n",
      "Card(type='State', data=3)\n",
      "\n",
      "New Card:\n",
      "3\n"
     ]
    }
   ],
   "source": [
    "from game_class import QDutch\n",
    "from card_generator import Card, generate_state\n",
    "\n",
    "# Initialize the game and add 2 players. Select the first player.\n",
    "game = QDutch()\n",
    "game.start_game(2)\n",
    "game.init_routine()\n",
    "player = game.players[0]\n",
    "\n",
    "# Print the initial hand of the player\n",
    "print(\"Initial Hand:\")\n",
    "print(player.hand[0].measure_all(), end=\"\\n\\n\")\n",
    "\n",
    "# Draw a state card from the deck\n",
    "card = Card(type=\"State\", data=generate_state())\n",
    "print(\"State Card:\")\n",
    "print(card, end=\"\\n\\n\")\n",
    "\n",
    "# Apply the state card to the player's hand at the 1st position\n",
    "game.apply_state_card(0, card)\n",
    "print(\"New Card:\")\n",
    "print(player.hand[0].measure_all())\n"
   ]
  },
  {
   "cell_type": "markdown",
   "id": "4e15afef",
   "metadata": {},
   "source": [
    "b) Action\n",
    "\n",
    "Action cards are operators (quantum gates) that can be applied on state cards. When a player picks up an action card from the deck, he can apply it on any cards on the table (his cards and other players cards). The state the change according to the operator applied.\n",
    "\n",
    "Operators can be single-qubit gates ($X$, $H$, $Z$, $S$) that apply on one of the 3 qubits of the states. They can also be two-qubit gates ($CNOT$, $SWAP$). \n",
    "\n",
    "Single-qubit gates can be used for instance to flip a bit or to generate quantum superposition. Two-qubit gates can be used to create entanglement in a state.\n",
    "\n",
    "\n"
   ]
  },
  {
   "cell_type": "code",
   "execution_count": 51,
   "id": "66e50b79",
   "metadata": {},
   "outputs": [
    {
     "name": "stdout",
     "output_type": "stream",
     "text": [
      "Initial Hand:\n",
      "4\n",
      "\n",
      "State Card:\n",
      "Card(type='Operator', data=['I', 'X', 'I'])\n",
      "\n",
      "New Card:\n",
      "6\n"
     ]
    }
   ],
   "source": [
    "from player_class import Player\n",
    "from game_class import QDutch\n",
    "from card_generator import Card, generate_operator\n",
    "\n",
    "game = QDutch()\n",
    "game.start_game(2)\n",
    "game.init_routine()\n",
    "player = game.players[0]\n",
    "\n",
    "print(\"Initial Hand:\")\n",
    "print(player.hand[0].measure_all())\n",
    "print()\n",
    "\n",
    "card = Card(type=\"Operator\", data=generate_operator())\n",
    "print(\"State Card:\")\n",
    "print(card)\n",
    "print()\n",
    "\n",
    "game.apply_operator_card(0, 0, card)\n",
    "print(\"New Card:\")\n",
    "print(player.hand[0].measure_all())"
   ]
  },
  {
   "cell_type": "markdown",
   "id": "b59579bc",
   "metadata": {},
   "source": [
    "c) Measurements\n",
    "\n",
    "Measurement cards can measure a specified qubit on any chosen card on the table. Measurements collapse a state card and remove uncertainty on a qubit in a state. It also introduce probabilities if the measured qubit is in a superposition state. "
   ]
  },
  {
   "cell_type": "code",
   "execution_count": 58,
   "id": "d7043016",
   "metadata": {},
   "outputs": [
    {
     "name": "stdout",
     "output_type": "stream",
     "text": [
      "Initial Hand:\n",
      "5\n",
      "\n",
      "State Card:\n",
      "Card(type='Measurement', data=2)\n",
      "\n",
      "Bit value:\n",
      "1\n"
     ]
    }
   ],
   "source": [
    "from player_class import Player\n",
    "from game_class import QDutch\n",
    "from card_generator import Card, generate_measurement\n",
    "\n",
    "game = QDutch()\n",
    "game.start_game(2)\n",
    "game.init_routine()\n",
    "player = game.players[0]\n",
    "\n",
    "print(\"Initial Hand:\")\n",
    "print(player.hand[0].measure_all())\n",
    "print()\n",
    "\n",
    "card = Card(type=\"Measurement\", data=generate_measurement())\n",
    "print(\"State Card:\")\n",
    "print(card)\n",
    "print()\n",
    "\n",
    "bit_value = game.apply_operator_card(0, 0, card)\n",
    "print(\"Bit value:\")\n",
    "print(bit_value)"
   ]
  },
  {
   "cell_type": "markdown",
   "id": "10e7f97a",
   "metadata": {},
   "source": [
    "### 3. End Game\n",
    "\n",
    "At the end of the game, when a player calls *\"Dutch\"*, all cards on the table are measured (the three qubit are measured for each cards), which reveals the value of each card. The measured value can be probabilitic if the state is in superposition. These values are then added up to generate the score of the player. The player with the lowest score wins the game."
   ]
  },
  {
   "cell_type": "code",
   "execution_count": 8,
   "id": "7716dde9",
   "metadata": {},
   "outputs": [
    {
     "name": "stdout",
     "output_type": "stream",
     "text": [
      "     ┌───┐     \n",
      "q_0: ┤ X ├──■──\n",
      "     └───┘┌─┴─┐\n",
      "q_1: ─────┤ X ├\n",
      "     ┌───┐└───┘\n",
      "q_2: ┤ H ├─────\n",
      "     └───┘     \n",
      "c: 3/══════════\n",
      "               \n",
      "Card value: 3\n"
     ]
    }
   ],
   "source": [
    "# Suppose a player have a card with a specific state:\n",
    "\n",
    "state = PlayerSlot()\n",
    "state.apply_operator([\"X\", \"I\", \"I\"])  # Apply X gate to the first qubit\n",
    "state.apply_operator([\"I\", \"I\", \"H\"])  # Apply X gate to the second qubit\n",
    "state.apply_operator([\"C\", \"X\", \"I\"])  # Apply H gate to the third qubit\n",
    "print(state.qc)\n",
    "\n",
    "# At the end of the game, all the players' cards are measured:\n",
    "card_value = state.measure_all()\n",
    "print(f\"Card value: {card_value}\")"
   ]
  }
 ],
 "metadata": {
  "kernelspec": {
   "display_name": "venv",
   "language": "python",
   "name": "python3"
  },
  "language_info": {
   "codemirror_mode": {
    "name": "ipython",
    "version": 3
   },
   "file_extension": ".py",
   "mimetype": "text/x-python",
   "name": "python",
   "nbconvert_exporter": "python",
   "pygments_lexer": "ipython3",
   "version": "3.11.2"
  }
 },
 "nbformat": 4,
 "nbformat_minor": 5
}
