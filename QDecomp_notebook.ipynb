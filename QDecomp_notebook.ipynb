{
 "cells": [
  {
   "cell_type": "markdown",
   "id": "4f4b58d8",
   "metadata": {},
   "source": [
    "# QDutch\n",
    "\n",
    "A reimagined card game by Francis Blais, Vincent Girouard, Olivier Romain and Marius Trudeau"
   ]
  },
  {
   "cell_type": "markdown",
   "id": "61e61535",
   "metadata": {},
   "source": [
    "## Original Game Mechanics"
   ]
  },
  {
   "cell_type": "markdown",
   "id": "af498a7a",
   "metadata": {},
   "source": [
    "QDutch is a reinterpretation of the Dutch card game. The rules of this game are simple.\n",
    "Each player (2 - 4) starts with four cards and can only look at two of them. The players then hide all their cards and the game can start. \n",
    "\n",
    "The goal of the game is to have the smallest sum of cards. \n",
    "One by one, each player picks up one card from a deck and look at it. If the player wants, he can replace any of his cards by that new card in order to lower his total sum. Otherwise, he can get rid of this card. \n",
    "\n",
    "Some cards, when picked up from the deck, have special effects, e.g. look at a card, change a card with another player, etc. \n",
    "\n",
    "At the beginning of his turn, if a player thinks he has the smaller hand, he calls *\"Dutch\"*. The game end after the table turn and every player reveals his four cards. The plyer with the smaller sum wins the game."
   ]
  },
  {
   "cell_type": "markdown",
   "id": "4a8f49a5",
   "metadata": {},
   "source": [
    "## Quantumized Mechanics"
   ]
  },
  {
   "cell_type": "markdown",
   "id": "86ff311c",
   "metadata": {},
   "source": [
    "**QDutch** changes some of those game mechanics to include quantum effects in the game. \n",
    "\n",
    "### 1. Player Cards\n",
    "\n",
    "Each card of a player consists of a 3-qubit state. The quantity associated to this card is the measured value of the state in the computational basis. Because of that, each card can go from 0 to 7 points."
   ]
  },
  {
   "cell_type": "code",
   "execution_count": null,
   "id": "0a52a3f9",
   "metadata": {
    "vscode": {
     "languageId": "plaintext"
    }
   },
   "outputs": [],
   "source": []
  },
  {
   "cell_type": "markdown",
   "id": "c629d5ca",
   "metadata": {},
   "source": [
    "### 2. Deck of cards\n",
    "\n",
    "The deck of card in the middle of the table is also quantum. This deck contains three types of cards: **States**, **Action** and **Measurement**.\n",
    "\n",
    "a) States\n",
    "\n",
    "State cards are 3 qubit quantum states expressed in the computationnal basis. When a player picks up a state card, he can change it with any of his cards. This create a new cards with zero uncertainty."
   ]
  },
  {
   "cell_type": "code",
   "execution_count": null,
   "id": "6d8aa0a0",
   "metadata": {
    "vscode": {
     "languageId": "plaintext"
    }
   },
   "outputs": [],
   "source": []
  },
  {
   "cell_type": "markdown",
   "id": "4e15afef",
   "metadata": {},
   "source": [
    "b) Action\n",
    "\n",
    "Action cards are operators (quantum gates) that can be applied on state cards. When a player picks up an action card from the deck, he can apply it on any cards on the table (his cards and other players cards). The state the change according to the operator applied.\n",
    "\n",
    "Operators can be single-qubit gates ($X$, $H$, $Z$, $S$) that apply on one of the 3 qubits of the states. They can also be two-qubit gates ($CNOT$, $SWAP$). \n",
    "\n",
    "Single-qubit gates can be used for instance to flip a bit or to generate quantum superposition. Two-qubit gates can be used to create entanglement in a state.\n",
    "\n",
    "\n"
   ]
  },
  {
   "cell_type": "code",
   "execution_count": null,
   "id": "66e50b79",
   "metadata": {
    "vscode": {
     "languageId": "plaintext"
    }
   },
   "outputs": [],
   "source": []
  },
  {
   "cell_type": "markdown",
   "id": "b59579bc",
   "metadata": {},
   "source": [
    "c) Measurements\n",
    "\n",
    "Measurement cards can measure a specified qubit on any chosen card on the table. Measurements collapse a state card and remove uncertainty on a qubit in a state. It also introduce probabilities if the measured qubit is in a superposition state. "
   ]
  },
  {
   "cell_type": "code",
   "execution_count": null,
   "id": "d7043016",
   "metadata": {
    "vscode": {
     "languageId": "plaintext"
    }
   },
   "outputs": [],
   "source": []
  },
  {
   "cell_type": "markdown",
   "id": "10e7f97a",
   "metadata": {},
   "source": [
    "## End Game\n",
    "\n",
    "At the end of the game, when a player calls Dutch, all cards on the table are measured completely, which reveals the value of each card. The value measure can be probabilitic if the state is in superposition. These values are then added up to generate the score of the player. The player with the lowest score wins the game."
   ]
  }
 ],
 "metadata": {
  "language_info": {
   "name": "python"
  }
 },
 "nbformat": 4,
 "nbformat_minor": 5
}
