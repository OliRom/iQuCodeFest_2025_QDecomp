{
 "cells": [
  {
   "cell_type": "markdown",
   "metadata": {},
   "source": [
    "# Introduction to Qiskit"
   ]
  },
  {
   "cell_type": "code",
   "metadata": {
    "ExecuteTime": {
     "end_time": "2025-05-29T18:51:04.686063Z",
     "start_time": "2025-05-29T18:51:03.985213Z"
    }
   },
   "source": [
    "from qiskit import QuantumCircuit\n",
    "from qiskit.circuit import ClassicalRegister, QuantumRegister"
   ],
   "outputs": [],
   "execution_count": 1
  },
  {
   "cell_type": "markdown",
   "metadata": {},
   "source": [
    "## Exercise 0\n",
    "- Read the `intro_qiskit.en.ipynb` notebook.\n",
    "- Run each cell and observe the results."
   ]
  },
  {
   "cell_type": "markdown",
   "metadata": {},
   "source": [
    "## Exercise 1\n",
    "\n",
    "Use Qiskit to create the following circuit in the cell below.\n",
    "\n",
    "<img src=\"images/quantum_circuit.png\" alt=\"Quantum circuit\" style=\"width:500px;\"/>"
   ]
  },
  {
   "cell_type": "code",
   "metadata": {
    "ExecuteTime": {
     "end_time": "2025-05-29T18:51:05.020403Z",
     "start_time": "2025-05-29T18:51:04.689274Z"
    }
   },
   "source": [
    "qc_ex1 = QuantumCircuit(3)\n",
    "\n",
    "# todo: complete the circuit\n",
    "\n",
    "qc_ex1.draw('mpl', scale=0.7, style=\"clifford\")"
   ],
   "outputs": [
    {
     "data": {
      "text/plain": [
       "<Figure size 113.456x198.994 with 1 Axes>"
      ],
      "image/png": "[encoded data removed]"
     },
     "execution_count": 2,
     "metadata": {},
     "output_type": "execute_result"
    }
   ],
   "execution_count": 2
  },
  {
   "cell_type": "markdown",
   "metadata": {},
   "source": [
    "## Exercise 2\n",
    "\n",
    "Use Qiskit to create the following parameterized circuit in the cell below.\n",
    "\n",
    "<img src=\"images/quantum_circuit_var.png\" alt=\"Quantum circuit Variational\" style=\"width:600px;\"/>"
   ]
  },
  {
   "cell_type": "code",
   "metadata": {
    "ExecuteTime": {
     "end_time": "2025-05-29T18:51:05.172937Z",
     "start_time": "2025-05-29T18:51:05.144422Z"
    }
   },
   "source": [
    "qc_ex2 = QuantumCircuit(3)\n",
    "\n",
    "# todo: complete the circuit\n",
    "\n",
    "qc_ex2.draw('mpl', style=\"clifford\")"
   ],
   "outputs": [
    {
     "data": {
      "text/plain": [
       "<Figure size 162.08x284.278 with 1 Axes>"
      ],
      "image/png": "[encoded data removed]"
     },
     "execution_count": 3,
     "metadata": {},
     "output_type": "execute_result"
    }
   ],
   "execution_count": 3
  },
  {
   "cell_type": "markdown",
   "metadata": {},
   "source": [
    "Assign random values to the 3 parameters in the circuit."
   ]
  },
  {
   "cell_type": "code",
   "metadata": {
    "ExecuteTime": {
     "end_time": "2025-05-29T18:51:05.206077Z",
     "start_time": "2025-05-29T18:51:05.181447Z"
    }
   },
   "source": [
    "# TODO: assign random values to the 3 parameters in the qc_ex2 circuit\n",
    "\n",
    "qc_ex2.draw('mpl', style=\"clifford\")"
   ],
   "outputs": [
    {
     "data": {
      "text/plain": [
       "<Figure size 162.08x284.278 with 1 Axes>"
      ],
      "image/png": "[encoded data removed]"
     },
     "execution_count": 4,
     "metadata": {},
     "output_type": "execute_result"
    }
   ],
   "execution_count": 4
  },
  {
   "cell_type": "markdown",
   "metadata": {},
   "source": [
    "## Exercise 3\n",
    "- Run the parameterized circuit from Exercise 2 with the following values (in the same call to the `sampler.run` method):\n",
    "  - 1) `[0,0,0]`\n",
    "  - 2) `[1,1,1]`\n",
    "- Display the results.\n",
    "- Visualize the results only for the values `[1, 1, 1]` as a histogram."
   ]
  }
 ],
 "metadata": {
  "kernelspec": {
   "display_name": "Python 3 (ipykernel)",
   "language": "python",
   "name": "python3"
  },
  "language_info": {
   "codemirror_mode": {
    "name": "ipython",
    "version": 3
   },
   "file_extension": ".py",
   "mimetype": "text/x-python",
   "name": "python",
   "nbconvert_exporter": "python",
   "pygments_lexer": "ipython3",
   "version": "3.11.7"
  }
 },
 "nbformat": 4,
 "nbformat_minor": 4
}
