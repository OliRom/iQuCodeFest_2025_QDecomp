{
 "cells": [
  {
   "cell_type": "code",
   "metadata": {
    "ExecuteTime": {
     "end_time": "2025-05-29T18:38:45.040874Z",
     "start_time": "2025-05-29T18:38:45.038747Z"
    }
   },
   "source": [
    "import numpy as np"
   ],
   "outputs": [],
   "execution_count": 2
  },
  {
   "cell_type": "markdown",
   "metadata": {},
   "source": [
    "# Introduction to Qiskit\n",
    "\n",
    "In this introduction, we will cover the following topics:\n",
    "1. Quantum gates and quantum circuits\n",
    "2. Visualization with the Bloch sphere and the state vector (amplitude bar)\n",
    "3. Circuit execution on a local simulator\n",
    "4. Displaying and plotting results\n",
    "5. Circuit execution on IBM Quantum Experience"
   ]
  },
  {
   "cell_type": "markdown",
   "metadata": {},
   "source": [
    "## Quantum gates and quantum circuits\n",
    "\n",
    "1. Quantum gates\n",
    "2. Quantum circuits\n",
    "3. Measurements\n",
    "4. Parametrized circuits"
   ]
  },
  {
   "cell_type": "markdown",
   "metadata": {},
   "source": [
    "### Quantum gates"
   ]
  },
  {
   "cell_type": "markdown",
   "metadata": {},
   "source": [
    "\n",
    "The state of a qubit is described by a complex vector, \n",
    "\n",
    "$\\begin{equation}|\\psi\\rangle = \\begin{bmatrix}\\alpha\\ \\\\ \\beta \\end{bmatrix}\\end{equation}$\n",
    "\n",
    "such that $|\\alpha|^2 + |\\beta|^2 = 1$. Using Dirac's notation, we have $|\\psi\\rangle = \\alpha |0\\rangle + \\beta |1\\rangle$.\n",
    "\n",
    "A quantum gate is a unitary transformation described by a complex matrix.<br>\n",
    "For a quantum gate acting on a single qubit,\n",
    "\n",
    "$\\begin{equation}U = \\begin{bmatrix}u_{00} & u_{01} \\\\ u_{10} & u_{11}\\end{bmatrix}\\end{equation}$ \n",
    "\n",
    "and $U^\\dagger U = 1$.\n",
    "\n",
    "When any $U$ can be expressed as a sequence of gates taken from a finite set of gates, we say that this set of quantum gates is universal. "
   ]
  },
  {
   "cell_type": "markdown",
   "metadata": {},
   "source": [
    "### Quantum circuits"
   ]
  },
  {
   "cell_type": "markdown",
   "metadata": {},
   "source": [
    "\n",
    "A [quantum circuit](https://docs.quantum.ibm.com/api/qiskit/qiskit.circuit.QuantumCircuit) is a sequence of quantum gates applied on one or more qubits. It is made of at least one __quantum register__ and can contain one or many __classical register(s)__.\n",
    "\n",
    " * A quantum register is a collection of qubits. We will usually use a single quantum register.\n",
    "\n",
    " * A classical register is a collection of bits that stores the result of a measurement. When measuring a qubit, you can specify in which bit you want to store the measurement outcome -- or rely on the default assignation!"
   ]
  },
  {
   "cell_type": "code",
   "metadata": {
    "ExecuteTime": {
     "end_time": "2025-05-29T18:38:45.519362Z",
     "start_time": "2025-05-29T18:38:45.046094Z"
    }
   },
   "source": [
    "from qiskit import QuantumCircuit\n",
    "from qiskit.circuit import ClassicalRegister, QuantumRegister"
   ],
   "outputs": [],
   "execution_count": 3
  },
  {
   "cell_type": "code",
   "metadata": {
    "ExecuteTime": {
     "end_time": "2025-05-29T18:38:45.870572Z",
     "start_time": "2025-05-29T18:38:45.523662Z"
    }
   },
   "source": [
    "# A quantum circuit with 3 qubits (in a default quantum register), no classical bit\n",
    "qc_3 = QuantumCircuit(3)\n",
    "qc_3.draw('mpl', scale=0.7, style=\"clifford\")"
   ],
   "outputs": [
    {
     "data": {
      "text/plain": [
       "<Figure size 113.456x198.994 with 1 Axes>"
      ],
      "image/png": "[encoded data removed]"
     },
     "execution_count": 4,
     "metadata": {},
     "output_type": "execute_result"
    }
   ],
   "execution_count": 4
  },
  {
   "cell_type": "code",
   "metadata": {
    "ExecuteTime": {
     "end_time": "2025-05-29T18:38:45.915536Z",
     "start_time": "2025-05-29T18:38:45.885323Z"
    }
   },
   "source": [
    "# A quantum circuit with 2 qubits, 2 classical bits\n",
    "qc_2_2 = QuantumCircuit(2, 2)\n",
    "qc_2_2.draw('mpl', scale=0.7, style=\"clifford\")"
   ],
   "outputs": [
    {
     "data": {
      "text/plain": [
       "<Figure size 113.314x198.994 with 1 Axes>"
      ],
      "image/png": "[encoded data removed]"
     },
     "execution_count": 5,
     "metadata": {},
     "output_type": "execute_result"
    }
   ],
   "execution_count": 5
  },
  {
   "cell_type": "code",
   "metadata": {
    "ExecuteTime": {
     "end_time": "2025-05-29T18:38:45.957559Z",
     "start_time": "2025-05-29T18:38:45.922280Z"
    }
   },
   "source": [
    "# A quantum circuit with 2 registers of 2 qubits each,\n",
    "# and one classical register with 2 classical bits\n",
    "qr0 = QuantumRegister(2, 'qr0')\n",
    "qr1 = QuantumRegister(2, 'qr1')\n",
    "cr = ClassicalRegister(2, 'cr')\n",
    "\n",
    "qc_22_2 = QuantumCircuit(qr0, qr1, cr)\n",
    "qc_22_2.draw('mpl', scale=0.7, style=\"clifford\")"
   ],
   "outputs": [
    {
     "data": {
      "text/plain": [
       "<Figure size 134.489x316.05 with 1 Axes>"
      ],
      "image/png": "[encoded data removed]"
     },
     "execution_count": 6,
     "metadata": {},
     "output_type": "execute_result"
    }
   ],
   "execution_count": 6
  },
  {
   "cell_type": "markdown",
   "metadata": {},
   "source": [
    "## Gates are applied from left to right.\n",
    "\n",
    "All the gates defined by Qiskit have a corresponding method in the `QuantumCircuit` class.<br>\n",
    "Let's look at a few examples."
   ]
  },
  {
   "cell_type": "code",
   "metadata": {
    "ExecuteTime": {
     "end_time": "2025-05-29T18:38:45.989739Z",
     "start_time": "2025-05-29T18:38:45.965133Z"
    }
   },
   "source": [
    "# The NOT gate\n",
    "qc = QuantumCircuit(1)\n",
    "qc.x(0)\n",
    "qc.draw('mpl', scale=0.7, style=\"clifford\")"
   ],
   "outputs": [
    {
     "data": {
      "text/plain": [
       "<Figure size 129.817x81.9389 with 1 Axes>"
      ],
      "image/png": "[encoded data removed]"
     },
     "execution_count": 7,
     "metadata": {},
     "output_type": "execute_result"
    }
   ],
   "execution_count": 7
  },
  {
   "cell_type": "code",
   "metadata": {
    "ExecuteTime": {
     "end_time": "2025-05-29T18:38:46.037312Z",
     "start_time": "2025-05-29T18:38:46.001617Z"
    }
   },
   "source": [
    "# The Hadamard gate\n",
    "qr0 = QuantumRegister(2, \"qr0\")\n",
    "qr1 = QuantumRegister(2, \"qr1\")\n",
    "cr = ClassicalRegister(2, \"cr\")\n",
    "\n",
    "qc = QuantumCircuit(qr0,qr1,cr)\n",
    "\n",
    "qc.h(qr0)\n",
    "\n",
    "qc.draw(\"mpl\", scale=0.7, style=\"clifford\")"
   ],
   "outputs": [
    {
     "data": {
      "text/plain": [
       "<Figure size 163.753x316.05 with 1 Axes>"
      ],
      "image/png": "[encoded data removed]"
     },
     "execution_count": 8,
     "metadata": {},
     "output_type": "execute_result"
    }
   ],
   "execution_count": 8
  },
  {
   "cell_type": "code",
   "metadata": {
    "ExecuteTime": {
     "end_time": "2025-05-29T18:38:46.075183Z",
     "start_time": "2025-05-29T18:38:46.046196Z"
    }
   },
   "source": [
    "# The RX gate, which applies a rotation around the X-axis by a given angle\n",
    "qc = QuantumCircuit(1)\n",
    "qc.rx(np.pi/2, 0)  # rotation of PI/2\n",
    "qc.draw('mpl', scale=0.7, style=\"clifford\")"
   ],
   "outputs": [
    {
     "data": {
      "text/plain": [
       "<Figure size 129.817x81.9389 with 1 Axes>"
      ],
      "image/png": "[encoded data removed]"
     },
     "execution_count": 9,
     "metadata": {},
     "output_type": "execute_result"
    }
   ],
   "execution_count": 9
  },
  {
   "cell_type": "code",
   "metadata": {
    "ExecuteTime": {
     "end_time": "2025-05-29T18:38:46.149414Z",
     "start_time": "2025-05-29T18:38:46.089276Z"
    }
   },
   "source": [
    "# The CNOT gate\n",
    "qc = QuantumCircuit(2)\n",
    "qc.cx(0, 1)  # first arg is control qubit, second is target qubit\n",
    "qc.draw('mpl', scale=0.7, style=\"clifford\")"
   ],
   "outputs": [
    {
     "data": {
      "text/plain": [
       "<Figure size 142.578x140.467 with 1 Axes>"
      ],
      "image/png": "[encoded data removed]"
     },
     "execution_count": 10,
     "metadata": {},
     "output_type": "execute_result"
    }
   ],
   "execution_count": 10
  },
  {
   "cell_type": "code",
   "metadata": {
    "ExecuteTime": {
     "end_time": "2025-05-29T18:38:46.190998Z",
     "start_time": "2025-05-29T18:38:46.161481Z"
    }
   },
   "source": [
    "# The SWAP gate\n",
    "qc = QuantumCircuit(2)\n",
    "qc.swap(0, 1)  # first arg is control qubit, second is target qubit\n",
    "qc.draw('mpl', scale=0.7, style=\"clifford\")"
   ],
   "outputs": [
    {
     "data": {
      "text/plain": [
       "<Figure size 142.578x140.467 with 1 Axes>"
      ],
      "image/png": "[encoded data removed]"
     },
     "execution_count": 11,
     "metadata": {},
     "output_type": "execute_result"
    }
   ],
   "execution_count": 11
  },
  {
   "cell_type": "markdown",
   "metadata": {},
   "source": [
    "**For more detail and information about Quantum Gate [Standard gates](https://docs.quantum.ibm.com/api/qiskit/circuit_library#standard-gates)**"
   ]
  },
  {
   "cell_type": "markdown",
   "metadata": {},
   "source": [
    "## Visualization: Statevector \n",
    "In quantum computing, one can visualize a quantum state represented by its state vector to observe the amplitudes and their respective phase within the system."
   ]
  },
  {
   "cell_type": "code",
   "metadata": {
    "ExecuteTime": {
     "end_time": "2025-05-29T18:41:31.748801Z",
     "start_time": "2025-05-29T18:41:31.637118Z"
    }
   },
   "source": [
    "# import our method to visualize the state vector `plot_statevector``\n",
    "import sys\n",
    "sys.path.append('..')\n",
    "from statevector_visualizer import plot_statevector\n",
    "from qiskit.quantum_info import Statevector\n",
    "\n",
    "# Create your quantum circuit\n",
    "qc_sv = QuantumCircuit(1)\n",
    "qc_sv.x(0)  # X gate applyed on |0> give |1>\n",
    "qc_sv.h(0)  # H gate applyed on |1> give  1/sqrt(2)|0> - 1/sqrt(2)|1>\n",
    "\n",
    "# Get the statevector of the circuit\n",
    "state = Statevector(qc_sv)\n",
    "\n",
    "# Plot the amplitude graph \n",
    "plot_statevector(state)\n",
    "\n",
    "# the plot will show the final state 1/sqrt(2)|0> - 1/sqrt(2)|1>\n",
    "# 1/sqrt(2) = 0.707...\n",
    "# in the 0 state, a bar with blue color (postive amplitude)\n",
    "# ine the 1 state, a bar with green color (rotation pi) to represnte the -1 factor"
   ],
   "outputs": [
    {
     "data": {
      "text/plain": [
       "<Figure size 800x400 with 1 Axes>"
      ],
      "image/png": "[encoded data removed]"
     },
     "metadata": {},
     "output_type": "display_data"
    }
   ],
   "execution_count": 14
  },
  {
   "cell_type": "markdown",
   "metadata": {},
   "source": [
    "## Measurements"
   ]
  },
  {
   "cell_type": "markdown",
   "metadata": {},
   "source": [
    "\n",
    "A measurement is a non-unitary operation that reads the state of the qubits.\n",
    "\n",
    "Born's rule tells us that for a qubit in state $|\\psi\\rangle = \\alpha |0\\rangle + \\beta |1\\rangle$, the probability that the measurement's outcome is 0 is $|\\alpha|^2$, and we have $|\\beta|^2$ for the probability that we measure 1.\n",
    "\n",
    "As mentioned before, the measurement outcome is stored in a classical bit."
   ]
  },
  {
   "cell_type": "code",
   "metadata": {
    "ExecuteTime": {
     "end_time": "2025-05-29T18:42:30.856274Z",
     "start_time": "2025-05-29T18:42:30.808870Z"
    }
   },
   "source": [
    "qc_3 = QuantumCircuit(3)\n",
    "\n",
    "# Measure all qubits and create a classical register with 1:1 mapping between\n",
    "# qubits number and classical bit number\n",
    "qc_3.measure_all()\n",
    "\n",
    "qc_3.draw('mpl', scale=0.7, style=\"clifford\")"
   ],
   "outputs": [
    {
     "data": {
      "text/plain": [
       "<Figure size 347.743x257.522 with 1 Axes>"
      ],
      "image/png": "[encoded data removed]"
     },
     "execution_count": 15,
     "metadata": {},
     "output_type": "execute_result"
    }
   ],
   "execution_count": 15
  },
  {
   "cell_type": "code",
   "metadata": {
    "ExecuteTime": {
     "end_time": "2025-05-29T18:42:34.979956Z",
     "start_time": "2025-05-29T18:42:34.944011Z"
    }
   },
   "source": [
    "qc_2_2 = QuantumCircuit(2, 2)\n",
    "\n",
    "# Measure the qubits and store the outcome in the classical bits of an existing\n",
    "# classical register\n",
    "qc_2_2.measure(0, 0) # qubit 0 ==> classical bit 0\n",
    "qc_2_2.measure(1, 1) # qubit 1 ==> classical bit 1\n",
    "qc_2_2.draw('mpl', scale=0.7, style=\"clifford\")\n",
    "\n",
    "# you can change this for example qubit 0 store result in bit 1 ..."
   ],
   "outputs": [
    {
     "data": {
      "text/plain": [
       "<Figure size 201.106x198.994 with 1 Axes>"
      ],
      "image/png": "[encoded data removed]"
     },
     "execution_count": 16,
     "metadata": {},
     "output_type": "execute_result"
    }
   ],
   "execution_count": 16
  },
  {
   "cell_type": "code",
   "metadata": {
    "ExecuteTime": {
     "end_time": "2025-05-29T18:42:38.660085Z",
     "start_time": "2025-05-29T18:42:38.572064Z"
    }
   },
   "source": [
    "# A quantum circuit with 2 registers of 2 qubits each,\n",
    "# and one classical register with 2 classical bits\n",
    "qr0 = QuantumRegister(2, 'qr0')\n",
    "qr1 = QuantumRegister(2, 'qr1')\n",
    "cr = ClassicalRegister(2, 'cr')\n",
    "\n",
    "qc_22_2 = QuantumCircuit(qr0, qr1, cr)\n",
    "\n",
    "# Measure the qubits of one quantum register and save the result in the classical bits\n",
    "# of an existing classical register\n",
    "qc_22_2.measure(qr1, cr)\n",
    "qc_22_2.draw('mpl', scale=0.7, style=\"clifford\")"
   ],
   "outputs": [
    {
     "data": {
      "text/plain": [
       "<Figure size 222.281x316.05 with 1 Axes>"
      ],
      "image/png": "[encoded data removed]"
     },
     "execution_count": 17,
     "metadata": {},
     "output_type": "execute_result"
    }
   ],
   "execution_count": 17
  },
  {
   "cell_type": "markdown",
   "metadata": {},
   "source": [
    "## Parametrized circuits"
   ]
  },
  {
   "cell_type": "markdown",
   "metadata": {},
   "source": [
    "\n",
    "1. `Parameter` and `ParameterVector`\n",
    "2. Parameters binding\n",
    "\n",
    "The vast majority of algorithms that run on today's quantum computers are _variational algorithms_.\n",
    "\n",
    "A variational algorithm is a hybrid algorithm where:\n",
    " 1. The quantum circuits have parametrized gates and are used to compute the expectation value of some observable.\n",
    " 2. A classical computer updates the parameters of the quantum circuits in order to minimize a cost function. \n",
    "\n",
    "\n",
    "`Parameter` vs `ParameterVector`:\n",
    "- `Parameter`: We generally use it when we have only one parameter. However, we can also use it manually to create a list of parameters.\n",
    "- `ParameterVector`: This is a predefined class used to handle multiple parameters."
   ]
  },
  {
   "cell_type": "code",
   "metadata": {
    "ExecuteTime": {
     "end_time": "2025-05-29T18:42:44.556138Z",
     "start_time": "2025-05-29T18:42:44.230422Z"
    }
   },
   "source": [
    "from qiskit.circuit import Parameter\n",
    "\n",
    "qc_var = QuantumCircuit(2)\n",
    "\n",
    "# define Parameters \n",
    "alpha = Parameter('a')\n",
    "beta =  Parameter('b')\n",
    "\n",
    "qc_var.rx(alpha, 0)\n",
    "qc_var.ry(beta, 1)\n",
    "\n",
    "qc_var.measure_all()\n",
    "\n",
    "qc_var.draw('mpl', style=\"clifford\")"
   ],
   "outputs": [
    {
     "data": {
      "text/plain": [
       "<Figure size 496.776x284.278 with 1 Axes>"
      ],
      "image/png": "[encoded data removed]"
     },
     "execution_count": 18,
     "metadata": {},
     "output_type": "execute_result"
    }
   ],
   "execution_count": 18
  },
  {
   "cell_type": "code",
   "metadata": {
    "ExecuteTime": {
     "end_time": "2025-05-29T18:42:51.453187Z",
     "start_time": "2025-05-29T18:42:51.411672Z"
    }
   },
   "source": [
    "# Bind the parameters (assign values to them) to create a bound circuit.\n",
    "qc_var_binded = qc_var.assign_parameters({alpha: 3})\n",
    "qc_var_binded = qc_var.assign_parameters({beta: 5.5})\n",
    "\n",
    "qc_var_binded.draw('mpl', style=\"clifford\")"
   ],
   "outputs": [
    {
     "data": {
      "text/plain": [
       "<Figure size 496.776x284.278 with 1 Axes>"
      ],
      "image/png": "[encoded data removed]"
     },
     "execution_count": 19,
     "metadata": {},
     "output_type": "execute_result"
    }
   ],
   "execution_count": 19
  },
  {
   "cell_type": "markdown",
   "metadata": {},
   "source": [
    "Use `ParameterVector`:"
   ]
  },
  {
   "cell_type": "code",
   "metadata": {
    "ExecuteTime": {
     "end_time": "2025-05-29T18:42:55.244869Z",
     "start_time": "2025-05-29T18:42:55.205280Z"
    }
   },
   "source": [
    "from qiskit.circuit import ParameterVector\n",
    "\n",
    "qc_var_2 = QuantumCircuit(2)\n",
    "\n",
    "# define list of Parameters using ParameterVector\n",
    "list_params = ParameterVector('p',2) \n",
    "print(list_params)\n",
    "\n",
    "qc_var_2.rx(list_params[0], 0)\n",
    "qc_var_2.ry(list_params[1], 1)\n",
    "\n",
    "qc_var_2.measure_all()\n",
    "\n",
    "qc_var_2.draw('mpl', style=\"clifford\")"
   ],
   "outputs": [
    {
     "name": "stdout",
     "output_type": "stream",
     "text": [
      "p, ['p[0]', 'p[1]']\n"
     ]
    },
    {
     "data": {
      "text/plain": [
       "<Figure size 496.776x284.278 with 1 Axes>"
      ],
      "image/png": "[encoded data removed]"
     },
     "execution_count": 20,
     "metadata": {},
     "output_type": "execute_result"
    }
   ],
   "execution_count": 20
  },
  {
   "cell_type": "code",
   "metadata": {
    "ExecuteTime": {
     "end_time": "2025-05-29T18:42:59.909681Z",
     "start_time": "2025-05-29T18:42:59.864526Z"
    }
   },
   "source": [
    "# Create a dictionary to simplify the process of assigning the values.\n",
    "\n",
    "params_dict = {list_params[0]:3, list_params[1]:5.5}\n",
    "\n",
    "# qc_binded = qc_var.bind_parameters(params_dict) #deprecate\n",
    "qc_var_2_binded = qc_var_2.assign_parameters(params_dict)\n",
    "qc_var_2_binded.draw('mpl', style=\"clifford\")"
   ],
   "outputs": [
    {
     "data": {
      "text/plain": [
       "<Figure size 496.776x284.278 with 1 Axes>"
      ],
      "image/png": "[encoded data removed]"
     },
     "execution_count": 21,
     "metadata": {},
     "output_type": "execute_result"
    }
   ],
   "execution_count": 21
  },
  {
   "cell_type": "markdown",
   "metadata": {},
   "source": [
    "## Circuit execution (on a local simulator)\n",
    "\n",
    "1. First backend : Aer Simulator\n",
    "   1. First approach : `transpile` function\n",
    "   2. Second approach : `Sampler` class"
   ]
  },
  {
   "cell_type": "code",
   "metadata": {
    "ExecuteTime": {
     "end_time": "2025-05-29T18:43:05.198222Z",
     "start_time": "2025-05-29T18:43:05.082029Z"
    }
   },
   "source": [
    "# The quantum circuit that we will execute\n",
    "qc_bell1 = QuantumCircuit(2)\n",
    "qc_bell1.h(0)\n",
    "qc_bell1.cx(0, 1)\n",
    "qc_bell1.measure_all()\n",
    "\n",
    "qc_bell1.draw('mpl', style=\"clifford\")"
   ],
   "outputs": [
    {
     "data": {
      "text/plain": [
       "<Figure size 580.387x284.278 with 1 Axes>"
      ],
      "image/png": "[encoded data removed]"
     },
     "execution_count": 22,
     "metadata": {},
     "output_type": "execute_result"
    }
   ],
   "execution_count": 22
  },
  {
   "cell_type": "markdown",
   "metadata": {},
   "source": [
    "### First backend : Aer Simulator"
   ]
  },
  {
   "cell_type": "markdown",
   "metadata": {},
   "source": [
    "\n",
    "[`Aer`](https://docs.quantum.ibm.com/api/qiskit/0.39/aer) provides quantum computing simulators with realistic noise models.<br>\n",
    "When you use a simulator through the `qiskit_aer` module, the computation runs locally. "
   ]
  },
  {
   "cell_type": "code",
   "metadata": {
    "ExecuteTime": {
     "end_time": "2025-05-29T18:43:11.070877Z",
     "start_time": "2025-05-29T18:43:11.023737Z"
    }
   },
   "source": [
    "from qiskit_aer import AerSimulator"
   ],
   "outputs": [],
   "execution_count": 23
  },
  {
   "cell_type": "code",
   "metadata": {
    "ExecuteTime": {
     "end_time": "2025-05-29T18:43:12.495698Z",
     "start_time": "2025-05-29T18:43:12.493680Z"
    }
   },
   "source": [
    "simulator = AerSimulator()"
   ],
   "outputs": [],
   "execution_count": 24
  },
  {
   "cell_type": "markdown",
   "metadata": {},
   "source": [
    "### First approach : `transpile` function"
   ]
  },
  {
   "cell_type": "markdown",
   "metadata": {},
   "source": [
    "Transpilation is the process of rewriting a given input circuit to match the topology of a specific quantum device, and/or to optimize the circuit for execution on present day noisy quantum systems, [more detail here](https://docs.quantum.ibm.com/api/qiskit/transpiler)\n",
    "\n",
    "This method (and its 33 parameters!) is documented [here](https://docs.quantum.ibm.com/api/qiskit/0.24/qiskit.compiler.transpile)\n",
    "\n",
    "It will be the default circuit execution approach during this event.\n",
    "\n",
    "Two parameters are mandatory:\n",
    " 1. the circuit(s)\n",
    " 2. the backend (quantum computer or simulator)\n",
    "\n",
    "The `transpile` method performs the computation asynchronously. It returns a `Job` instance.\n",
    "Retrieving the result from the job is blocking."
   ]
  },
  {
   "cell_type": "code",
   "metadata": {
    "ExecuteTime": {
     "end_time": "2025-05-29T18:43:17.566062Z",
     "start_time": "2025-05-29T18:43:17.564231Z"
    }
   },
   "source": [
    "# from qiskit import execute #deprecated in qiskit 1.0\n",
    "from qiskit import transpile"
   ],
   "outputs": [],
   "execution_count": 25
  },
  {
   "cell_type": "code",
   "metadata": {
    "ExecuteTime": {
     "end_time": "2025-05-29T18:43:22.638402Z",
     "start_time": "2025-05-29T18:43:21.961548Z"
    }
   },
   "source": [
    "new_circuit = transpile(qc_bell1, simulator)\n",
    "job = simulator.run(new_circuit)\n",
    "result = job.result()\n",
    "counts = result.get_counts()\n",
    "print(counts)"
   ],
   "outputs": [
    {
     "name": "stdout",
     "output_type": "stream",
     "text": [
      "{'11': 497, '00': 527}\n"
     ]
    }
   ],
   "execution_count": 26
  },
  {
   "cell_type": "markdown",
   "metadata": {},
   "source": [
    "### counts:\n",
    "The counts represent the measurement outcomes obtained from running a quantum circuit on a simulator or a real quantum device. It represent the histogram of measurement outcomes.\n",
    "- Each key in the counts dictionary corresponds to a specific measurement outcome (e.g., ‘00’, ‘01’, ‘10’, ‘11’, etc.).\n",
    "- The corresponding value is the number of times that outcome was observed during the execution of the circuit.\n",
    "- For example, if you see '00': 500, it means that the state ‘00’ was measured 500 times.\n",
    "\n",
    "The counts provide insights into the probabilities of different measurement outcomes."
   ]
  },
  {
   "cell_type": "markdown",
   "metadata": {},
   "source": [
    "### Second approach : `Sampler`"
   ]
  },
  {
   "cell_type": "code",
   "metadata": {
    "ExecuteTime": {
     "end_time": "2025-05-29T18:47:51.064074Z",
     "start_time": "2025-05-29T18:47:50.990683Z"
    }
   },
   "source": [
    "#Alternative with Sampler\n",
    "from qiskit.primitives import BackendSampler \n",
    "#from qiskit.primitives import SamplerV2\n",
    "\n",
    "sampler = BackendSampler(simulator)\n",
    "job = sampler.run(qc_bell1)\n",
    "result = job.result()\n",
    "\n",
    "# this class return the quasi-probability distributions associated with the measurement outcomes.\n",
    "print('default output: ', result.quasi_dists[0])\n",
    "print('Binary output: ', result.quasi_dists[0].binary_probabilities())"
   ],
   "outputs": [
    {
     "ename": "TypeError",
     "evalue": "BackendSamplerV2.__init__() takes 1 positional argument but 2 were given",
     "output_type": "error",
     "traceback": [
      "\u001B[31m---------------------------------------------------------------------------\u001B[39m",
      "\u001B[31mTypeError\u001B[39m                                 Traceback (most recent call last)",
      "\u001B[36mCell\u001B[39m\u001B[36m \u001B[39m\u001B[32mIn[29]\u001B[39m\u001B[32m, line 5\u001B[39m\n\u001B[32m      2\u001B[39m \u001B[38;5;28;01mfrom\u001B[39;00m\u001B[38;5;250m \u001B[39m\u001B[34;01mqiskit\u001B[39;00m\u001B[34;01m.\u001B[39;00m\u001B[34;01mprimitives\u001B[39;00m\u001B[38;5;250m \u001B[39m\u001B[38;5;28;01mimport\u001B[39;00m BackendSamplerV2 \u001B[38;5;28;01mas\u001B[39;00m BackendSampler \n\u001B[32m      3\u001B[39m \u001B[38;5;66;03m#from qiskit.primitives import SamplerV2\u001B[39;00m\n\u001B[32m----> \u001B[39m\u001B[32m5\u001B[39m sampler = \u001B[43mBackendSampler\u001B[49m\u001B[43m(\u001B[49m\u001B[43msimulator\u001B[49m\u001B[43m)\u001B[49m\n\u001B[32m      6\u001B[39m job = sampler.run(qc_bell1)\n\u001B[32m      7\u001B[39m result = job.result()\n",
      "\u001B[31mTypeError\u001B[39m: BackendSamplerV2.__init__() takes 1 positional argument but 2 were given"
     ]
    }
   ],
   "execution_count": 29
  },
  {
   "cell_type": "markdown",
   "metadata": {},
   "source": [
    "### quasi-probability distributions -> counts\n",
    "We can convert the quasi-distribution probabilities to counts if needed (based on the number of shots) as follows:"
   ]
  },
  {
   "cell_type": "code",
   "metadata": {
    "ExecuteTime": {
     "end_time": "2025-05-29T18:49:48.145652Z",
     "start_time": "2025-05-29T18:49:48.134556Z"
    }
   },
   "source": [
    "num_shots = result.metadata[0]['shots']\n",
    "counts = {k: v*num_shots for k, v in result.quasi_dists[0].binary_probabilities().items()}\n",
    "print(counts)"
   ],
   "outputs": [
    {
     "name": "stdout",
     "output_type": "stream",
     "text": [
      "{'00': 538.0, '11': 486.0}\n"
     ]
    }
   ],
   "execution_count": 30
  },
  {
   "cell_type": "markdown",
   "metadata": {},
   "source": [
    "### Display the results as a histogram."
   ]
  },
  {
   "cell_type": "code",
   "metadata": {
    "ExecuteTime": {
     "end_time": "2025-05-29T18:49:51.173512Z",
     "start_time": "2025-05-29T18:49:51.121804Z"
    }
   },
   "source": [
    "from qiskit.visualization import plot_histogram\n",
    "\n",
    "plot_histogram(counts, figsize=(3, 3))"
   ],
   "outputs": [
    {
     "data": {
      "text/plain": [
       "<Figure size 300x300 with 1 Axes>"
      ],
      "image/png": "[encoded data removed]"
     },
     "execution_count": 31,
     "metadata": {},
     "output_type": "execute_result"
    }
   ],
   "execution_count": 31
  },
  {
   "cell_type": "markdown",
   "metadata": {},
   "source": [
    "#### Second class : `Sampler`\n"
   ]
  },
  {
   "cell_type": "markdown",
   "metadata": {},
   "source": [
    "\n",
    "The `Sampler` class calculates (quasi) probabilities of bitstrings from quantum circuits."
   ]
  },
  {
   "cell_type": "code",
   "metadata": {
    "ExecuteTime": {
     "end_time": "2025-05-29T18:49:57.907332Z",
     "start_time": "2025-05-29T18:49:57.904789Z"
    }
   },
   "source": [
    "from qiskit.primitives import Sampler, BackendSampler"
   ],
   "outputs": [],
   "execution_count": 32
  },
  {
   "cell_type": "code",
   "metadata": {
    "ExecuteTime": {
     "end_time": "2025-05-29T18:50:01.547075Z",
     "start_time": "2025-05-29T18:50:01.536556Z"
    }
   },
   "source": [
    "# Exact\n",
    "sampler = Sampler()\n",
    "job = sampler.run(circuits=[qc_bell1])\n",
    "print(f'Sampling distribution: {job.result().quasi_dists[0]}')"
   ],
   "outputs": [
    {
     "name": "stdout",
     "output_type": "stream",
     "text": [
      "Sampling distribution: {0: 0.5, 3: 0.5}\n"
     ]
    },
    {
     "name": "stderr",
     "output_type": "stream",
     "text": [
      "/var/folders/cn/8wc0t1212qv5q9y694bk0w6r0000gq/T/ipykernel_19407/1001395544.py:2: DeprecationWarning: The class ``qiskit.primitives.sampler.Sampler`` is deprecated as of qiskit 1.2. It will be removed no earlier than 3 months after the release date. All implementations of the `BaseSamplerV1` interface have been deprecated in favor of their V2 counterparts. The V2 alternative for the `Sampler` class is `StatevectorSampler`.\n",
      "  sampler = Sampler()\n"
     ]
    }
   ],
   "execution_count": 33
  },
  {
   "cell_type": "markdown",
   "metadata": {},
   "source": [
    "## Execute a paramtrized circuit with diffirent values"
   ]
  },
  {
   "cell_type": "code",
   "metadata": {
    "ExecuteTime": {
     "end_time": "2025-05-29T18:50:31.103883Z",
     "start_time": "2025-05-29T18:50:31.095724Z"
    }
   },
   "source": [
    "job = sampler.run([qc_var_2, qc_var_2], parameter_values=[[0,0], [1,1]])\n",
    "result = job.result()\n",
    "print(result.quasi_dists)\n",
    "\n",
    "# The line job = sampler.run([qc_var_2, qc_var_2], parameter_values=[[0, 0], [1, 1]]) creates a job by running two instances of the quantum circuit qc_var_2.\n",
    "# The parameter_values argument specifies the parameter values for each circuit. In this case, the first circuit uses [0, 0] as its parameters, and the second circuit uses [1, 1]."
   ],
   "outputs": [
    {
     "name": "stdout",
     "output_type": "stream",
     "text": [
      "[{0: 1.0}, {0: 0.593132798365677, 1: 0.177018354568393, 2: 0.177018354568393, 3: 0.052830492497537}]\n"
     ]
    }
   ],
   "execution_count": 34
  }
 ],
 "metadata": {
  "kernelspec": {
   "display_name": "winterschool",
   "language": "python",
   "name": "python3"
  },
  "language_info": {
   "codemirror_mode": {
    "name": "ipython",
    "version": 3
   },
   "file_extension": ".py",
   "mimetype": "text/x-python",
   "name": "python",
   "nbconvert_exporter": "python",
   "pygments_lexer": "ipython3",
   "version": "3.11.5"
  }
 },
 "nbformat": 4,
 "nbformat_minor": 2
}
