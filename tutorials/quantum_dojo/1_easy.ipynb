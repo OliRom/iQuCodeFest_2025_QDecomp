{
 "cells": [
  {
   "cell_type": "markdown",
   "metadata": {},
   "source": [
    "# Quantum Dojo - Easy\n",
    "\n",
    "Starting from a quantum state $|\\psi⟩$ (represented by a diagram of its statevector), your goal is to:\n",
    "1. Find the quantum circuit that produces this specific state,\n",
    "2. Visualize the statevector using `plot_statevector(state)`.\n",
    "\n",
    "To find the quantum circuit, you can use:\n",
    "- [IBM Quantum Composer](https://quantum.ibm.com/composer/) (use only to help you design the solution), OR\n",
    "- Source code (Jupyter notebook)\n",
    "\n",
    "At the end, provide your solutions in this notebook for each kata as source code."
   ]
  },
  {
   "cell_type": "code",
   "metadata": {
    "ExecuteTime": {
     "end_time": "2025-05-29T18:52:50.267193Z",
     "start_time": "2025-05-29T18:52:49.435673Z"
    }
   },
   "source": [
    "from qiskit import QuantumCircuit\n",
    "from qiskit.quantum_info import Statevector\n",
    "\n",
    "# statevector visualization\n",
    "from statevector_visualizer import plot_statevector"
   ],
   "outputs": [],
   "execution_count": 1
  },
  {
   "cell_type": "markdown",
   "metadata": {},
   "source": [
    "## Kata 1:\n",
    "\n",
    "IBM Composer             |  Visualization result\n",
    ":-------------------------:|:-------------------------:\n",
    "![](images/one_blue_bar_at_1.png)  |  ![](images/one_blue_bar_at_1_code.png)"
   ]
  },
  {
   "cell_type": "code",
   "metadata": {
    "ExecuteTime": {
     "end_time": "2025-05-29T18:52:50.271728Z",
     "start_time": "2025-05-29T18:52:50.270118Z"
    }
   },
   "source": [
    "# Todo 1: Find the quantum circuit\n",
    "\n",
    "# Todo 2: Visualize the statevector using `plot_statevector(state)`\n"
   ],
   "outputs": [],
   "execution_count": 2
  },
  {
   "cell_type": "markdown",
   "metadata": {},
   "source": [
    "## Kata 2:\n",
    "\n",
    "IBM Composer             |  Visualization result\n",
    ":-------------------------:|:-------------------------:\n",
    "![](images/one_red_bar_at_1.png)  |  ![](images/one_red_bar_at_1_code.png)\n"
   ]
  },
  {
   "cell_type": "code",
   "metadata": {
    "ExecuteTime": {
     "end_time": "2025-05-29T18:52:50.391361Z",
     "start_time": "2025-05-29T18:52:50.389863Z"
    }
   },
   "source": [
    "# todo"
   ],
   "outputs": [],
   "execution_count": 3
  },
  {
   "cell_type": "markdown",
   "metadata": {},
   "source": [
    "## Kata 3:\n",
    "\n",
    "IBM Composer             |  Visualization result\n",
    ":-------------------------:|:-------------------------:\n",
    "![](images/one_qubit_blue_red_bars.png)  |  ![](images/one_qubit_blue_red_bars_code.png)"
   ]
  },
  {
   "cell_type": "code",
   "metadata": {
    "ExecuteTime": {
     "end_time": "2025-05-29T18:52:50.396186Z",
     "start_time": "2025-05-29T18:52:50.394945Z"
    }
   },
   "source": [
    "# todo"
   ],
   "outputs": [],
   "execution_count": 4
  },
  {
   "cell_type": "markdown",
   "metadata": {},
   "source": [
    "## Kata 4:\n",
    "\n",
    "IBM Composer             |  Visualization result\n",
    ":-------------------------:|:-------------------------:\n",
    "![](images/one_qubit_red_blue_bars.png)  |  ![](images/one_qubit_red_blue_bars_code.png)"
   ]
  },
  {
   "cell_type": "code",
   "metadata": {
    "ExecuteTime": {
     "end_time": "2025-05-29T18:52:50.400816Z",
     "start_time": "2025-05-29T18:52:50.399434Z"
    }
   },
   "source": [
    "# todo"
   ],
   "outputs": [],
   "execution_count": 5
  },
  {
   "cell_type": "markdown",
   "metadata": {},
   "source": [
    "## Kata 5:\n",
    "\n",
    "IBM Composer             |  Visualization result\n",
    ":-------------------------:|:-------------------------:\n",
    "![](images/bell_1.png)  |  ![](images/bell_1_code.png)\n"
   ]
  },
  {
   "cell_type": "code",
   "metadata": {
    "ExecuteTime": {
     "end_time": "2025-05-29T18:52:50.405382Z",
     "start_time": "2025-05-29T18:52:50.404178Z"
    }
   },
   "source": [
    "# todo"
   ],
   "outputs": [],
   "execution_count": 6
  },
  {
   "cell_type": "markdown",
   "metadata": {},
   "source": [
    "## Kata 6:\n",
    "\n",
    "IBM Composer             |  Visualization result\n",
    ":-------------------------:|:-------------------------:\n",
    "![](images/bell_2.png)  |  ![](images/bell_2_code.png)\n"
   ]
  },
  {
   "cell_type": "code",
   "metadata": {
    "ExecuteTime": {
     "end_time": "2025-05-29T18:52:50.409874Z",
     "start_time": "2025-05-29T18:52:50.408594Z"
    }
   },
   "source": [
    "# todo"
   ],
   "outputs": [],
   "execution_count": 7
  },
  {
   "cell_type": "markdown",
   "metadata": {},
   "source": [
    "## Kata 7:\n",
    "\n",
    "IBM Composer             |  Visualization result\n",
    ":-------------------------:|:-------------------------:\n",
    "![](images/bell_3.png)  |  ![](images/bell_3_code.png)\n"
   ]
  },
  {
   "cell_type": "code",
   "metadata": {
    "ExecuteTime": {
     "end_time": "2025-05-29T18:52:50.414581Z",
     "start_time": "2025-05-29T18:52:50.413295Z"
    }
   },
   "source": [
    "# todo"
   ],
   "outputs": [],
   "execution_count": 8
  },
  {
   "cell_type": "markdown",
   "metadata": {},
   "source": [
    "## Kata 8:\n",
    "\n",
    "IBM Composer             |  Visualization result\n",
    ":-------------------------:|:-------------------------:\n",
    "![](images/bell_4.png)  |  ![](images/bell_4_code.png)"
   ]
  },
  {
   "cell_type": "code",
   "metadata": {
    "ExecuteTime": {
     "end_time": "2025-05-29T18:52:50.419829Z",
     "start_time": "2025-05-29T18:52:50.418352Z"
    }
   },
   "source": [
    "# todo"
   ],
   "outputs": [],
   "execution_count": 9
  },
  {
   "cell_type": "markdown",
   "metadata": {},
   "source": [
    "## Kata 9:\n",
    "\n",
    "IBM Composer             |  Visualization result\n",
    ":-------------------------:|:-------------------------:\n",
    "![](images/b_rr_b.png)  |  ![](images/b_rr_b_code.png)"
   ]
  },
  {
   "cell_type": "code",
   "metadata": {
    "ExecuteTime": {
     "end_time": "2025-05-29T18:52:50.424426Z",
     "start_time": "2025-05-29T18:52:50.423238Z"
    }
   },
   "source": [
    "# todo"
   ],
   "outputs": [],
   "execution_count": 10
  },
  {
   "cell_type": "markdown",
   "metadata": {},
   "source": [
    "## Kata 10:\n",
    "\n",
    "IBM Composer             |  Visualization result\n",
    ":-------------------------:|:-------------------------:\n",
    "![](images/bbb_r.png)  |  ![](images/bbb_r_code.png)"
   ]
  },
  {
   "cell_type": "code",
   "metadata": {
    "ExecuteTime": {
     "end_time": "2025-05-29T18:52:50.429012Z",
     "start_time": "2025-05-29T18:52:50.427684Z"
    }
   },
   "source": [
    "# todo "
   ],
   "outputs": [],
   "execution_count": 11
  },
  {
   "cell_type": "markdown",
   "metadata": {},
   "source": [
    "## Kata 11:\n",
    "\n",
    "IBM Composer             |  Visualization result\n",
    ":-------------------------:|:-------------------------:\n",
    "![](images/b_p_y_r.png)  |  ![](images/b_p_y_r_code.png)"
   ]
  },
  {
   "cell_type": "code",
   "metadata": {
    "ExecuteTime": {
     "end_time": "2025-05-29T18:52:50.433390Z",
     "start_time": "2025-05-29T18:52:50.432115Z"
    }
   },
   "source": [
    "# todo"
   ],
   "outputs": [],
   "execution_count": 12
  }
 ],
 "metadata": {
  "kernelspec": {
   "display_name": "Python 3 (ipykernel)",
   "language": "python",
   "name": "python3"
  },
  "language_info": {
   "codemirror_mode": {
    "name": "ipython",
    "version": 3
   },
   "file_extension": ".py",
   "mimetype": "text/x-python",
   "name": "python",
   "nbconvert_exporter": "python",
   "pygments_lexer": "ipython3",
   "version": "3.11.7"
  }
 },
 "nbformat": 4,
 "nbformat_minor": 4
}
